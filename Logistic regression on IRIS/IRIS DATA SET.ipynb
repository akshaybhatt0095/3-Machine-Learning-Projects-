{
 "cells": [
  {
   "cell_type": "code",
   "execution_count": 3,
   "metadata": {},
   "outputs": [],
   "source": [
    "'''\n",
    "PREDICT IRIS DATA USING LOGISTIC REGRESSION\n",
    "DATA LENGTH=150, ATTRIBUTES= 4 Feature values + 1 Class\n",
    "\n",
    "'''\n",
    "#importing dependencies\n",
    "import pandas as pd\n",
    "from matplotlib import pyplot as plt\n",
    "import seaborn as sns\n",
    "from sklearn.linear_model import LogisticRegression \n",
    "from sklearn.model_selection import train_test_split  \n",
    "from sklearn.metrics import accuracy_score \n",
    "from sklearn.metrics import classification_report\n"
   ]
  },
  {
   "cell_type": "code",
   "execution_count": 20,
   "metadata": {},
   "outputs": [],
   "source": [
    "#loading the csv file using pandas\n",
    "data=pd.read_csv('iris.csv',header=None)"
   ]
  },
  {
   "cell_type": "code",
   "execution_count": 21,
   "metadata": {
    "scrolled": true
   },
   "outputs": [
    {
     "name": "stdout",
     "output_type": "stream",
     "text": [
      "     0    1    2    3            4\n",
      "0  5.1  3.5  1.4  0.2  Iris-setosa\n",
      "1  4.9  3.0  1.4  0.2  Iris-setosa\n",
      "2  4.7  3.2  1.3  0.2  Iris-setosa\n",
      "3  4.6  3.1  1.5  0.2  Iris-setosa\n",
      "4  5.0  3.6  1.4  0.2  Iris-setosa\n"
     ]
    }
   ],
   "source": [
    "#Print first 5 rows of the data set\n",
    "\n",
    "print(data.head())"
   ]
  },
  {
   "cell_type": "code",
   "execution_count": 22,
   "metadata": {},
   "outputs": [
    {
     "data": {
      "text/plain": [
       "150"
      ]
     },
     "execution_count": 22,
     "metadata": {},
     "output_type": "execute_result"
    }
   ],
   "source": [
    "#Check the length of the data set\n",
    "len(data)"
   ]
  },
  {
   "cell_type": "code",
   "execution_count": 30,
   "metadata": {},
   "outputs": [],
   "source": [
    "#Naming the columns\n",
    "#1-sepal_length\n",
    "#2-sepal_width\n",
    "#3-petal_length\n",
    "#4-petal_width\n",
    "\n",
    "data.columns=['sepal_length','sepal_width','petal_length','petal_width','class']"
   ]
  },
  {
   "cell_type": "code",
   "execution_count": 64,
   "metadata": {},
   "outputs": [
    {
     "data": {
      "text/plain": [
       "Iris-versicolor    50\n",
       "Iris-virginica     50\n",
       "Iris-setosa        50\n",
       "Name: class, dtype: int64"
      ]
     },
     "execution_count": 64,
     "metadata": {},
     "output_type": "execute_result"
    }
   ],
   "source": [
    "#Counting the class\n",
    "#This isa well balanced dataset as each of the species are of 50 counts\n",
    "data['class'].value_counts()"
   ]
  },
  {
   "cell_type": "code",
   "execution_count": 33,
   "metadata": {},
   "outputs": [
    {
     "name": "stdout",
     "output_type": "stream",
     "text": [
      "     sepal_length  sepal_width  petal_length  petal_width\n",
      "0             5.1          3.5           1.4          0.2\n",
      "1             4.9          3.0           1.4          0.2\n",
      "2             4.7          3.2           1.3          0.2\n",
      "3             4.6          3.1           1.5          0.2\n",
      "4             5.0          3.6           1.4          0.2\n",
      "..            ...          ...           ...          ...\n",
      "145           6.7          3.0           5.2          2.3\n",
      "146           6.3          2.5           5.0          1.9\n",
      "147           6.5          3.0           5.2          2.0\n",
      "148           6.2          3.4           5.4          2.3\n",
      "149           5.9          3.0           5.1          1.8\n",
      "\n",
      "[150 rows x 4 columns]\n"
     ]
    }
   ],
   "source": [
    "#Preparing the training set\n",
    "# The first 4 columns are our features and the last column is the class which is to be predicted.\n",
    "\n",
    "#Features\n",
    "F=data.iloc[:,:4]\n",
    "print(F)"
   ]
  },
  {
   "cell_type": "code",
   "execution_count": 34,
   "metadata": {},
   "outputs": [
    {
     "name": "stdout",
     "output_type": "stream",
     "text": [
      "0         Iris-setosa\n",
      "1         Iris-setosa\n",
      "2         Iris-setosa\n",
      "3         Iris-setosa\n",
      "4         Iris-setosa\n",
      "            ...      \n",
      "145    Iris-virginica\n",
      "146    Iris-virginica\n",
      "147    Iris-virginica\n",
      "148    Iris-virginica\n",
      "149    Iris-virginica\n",
      "Name: class, Length: 150, dtype: object\n"
     ]
    }
   ],
   "source": [
    "#Target\n",
    "C=data.iloc[:,-1]\n",
    "print(C)"
   ]
  },
  {
   "cell_type": "code",
   "execution_count": 48,
   "metadata": {
    "scrolled": true
   },
   "outputs": [
    {
     "data": {
      "image/png": "[encoded data removed]",
      "text/plain": [
       "<Figure size 720x360 with 1 Axes>"
      ]
     },
     "metadata": {
      "needs_background": "light"
     },
     "output_type": "display_data"
    }
   ],
   "source": [
    "#Ploting the relation of each feature with the class(species)\n",
    "plt.figure(figsize=(10,5))\n",
    "plt.xlabel('Features')\n",
    "plt.ylabel('Species')\n",
    "\n",
    "pltX =F.loc[:,'sepal_length']\n",
    "pltY=C\n",
    "plt.scatter(pltX,pltY,color='green',marker='*',label='SEPAL LENGTH')\n",
    "\n",
    "pltX =F.loc[:,'sepal_width']\n",
    "pltY=C\n",
    "plt.scatter(pltX,pltY,color='red',marker='+',label='SEPAL WIDTH')\n",
    "\n",
    "pltX =F.loc[:,'petal_length']\n",
    "pltY=C\n",
    "plt.scatter(pltX,pltY,color='black',marker='*',label='PETAL LENGTH')\n",
    "\n",
    "pltX =F.loc[:,'petal_width']\n",
    "pltY=C\n",
    "plt.scatter(pltX,pltY,color='yellow',marker='+',label='PETAL WIDTH')\n",
    "\n",
    "\n",
    "plt.legend(loc='lower right')\n",
    "plt.show()"
   ]
  },
  {
   "cell_type": "code",
   "execution_count": 50,
   "metadata": {},
   "outputs": [],
   "source": [
    "#Splitting our data into 80% Training and 20% Testing Data using the train_test_split.\n",
    "\n",
    "x_train,x_test,y_train,y_test=train_test_split(F,C,test_size=0.2,random_state=42)\n"
   ]
  },
  {
   "cell_type": "code",
   "execution_count": 60,
   "metadata": {},
   "outputs": [],
   "source": [
    "#Training the model\n",
    "model=LogisticRegression()\n",
    "model.fit(x_train,y_train)\n",
    "\n",
    "import warnings\n",
    "warnings.simplefilter(action='ignore',category=FutureWarning)"
   ]
  },
  {
   "cell_type": "code",
   "execution_count": 62,
   "metadata": {},
   "outputs": [
    {
     "name": "stdout",
     "output_type": "stream",
     "text": [
      "['Iris-versicolor' 'Iris-setosa' 'Iris-virginica' 'Iris-versicolor'\n",
      " 'Iris-versicolor' 'Iris-setosa' 'Iris-versicolor' 'Iris-virginica'\n",
      " 'Iris-versicolor' 'Iris-versicolor' 'Iris-virginica' 'Iris-setosa'\n",
      " 'Iris-setosa' 'Iris-setosa' 'Iris-setosa' 'Iris-versicolor'\n",
      " 'Iris-virginica' 'Iris-versicolor' 'Iris-versicolor' 'Iris-virginica'\n",
      " 'Iris-setosa' 'Iris-virginica' 'Iris-setosa' 'Iris-virginica'\n",
      " 'Iris-virginica' 'Iris-virginica' 'Iris-virginica' 'Iris-virginica'\n",
      " 'Iris-setosa' 'Iris-setosa']\n",
      "73     Iris-versicolor\n",
      "18         Iris-setosa\n",
      "118     Iris-virginica\n",
      "78     Iris-versicolor\n",
      "76     Iris-versicolor\n",
      "31         Iris-setosa\n",
      "64     Iris-versicolor\n",
      "141     Iris-virginica\n",
      "68     Iris-versicolor\n",
      "82     Iris-versicolor\n",
      "110     Iris-virginica\n",
      "12         Iris-setosa\n",
      "36         Iris-setosa\n",
      "9          Iris-setosa\n",
      "19         Iris-setosa\n",
      "56     Iris-versicolor\n",
      "104     Iris-virginica\n",
      "69     Iris-versicolor\n",
      "55     Iris-versicolor\n",
      "132     Iris-virginica\n",
      "29         Iris-setosa\n",
      "127     Iris-virginica\n",
      "26         Iris-setosa\n",
      "128     Iris-virginica\n",
      "131     Iris-virginica\n",
      "145     Iris-virginica\n",
      "108     Iris-virginica\n",
      "143     Iris-virginica\n",
      "45         Iris-setosa\n",
      "30         Iris-setosa\n",
      "Name: class, dtype: object\n"
     ]
    }
   ],
   "source": [
    "#Testing the model\n",
    "\n",
    "prediction=model.predict(x_test)\n",
    "print(prediction)\n",
    "\n",
    "print(y_test)"
   ]
  },
  {
   "cell_type": "code",
   "execution_count": 54,
   "metadata": {},
   "outputs": [
    {
     "name": "stdout",
     "output_type": "stream",
     "text": [
      "                 precision    recall  f1-score   support\n",
      "\n",
      "    Iris-setosa       1.00      1.00      1.00        10\n",
      "Iris-versicolor       1.00      1.00      1.00         9\n",
      " Iris-virginica       1.00      1.00      1.00        11\n",
      "\n",
      "       accuracy                           1.00        30\n",
      "      macro avg       1.00      1.00      1.00        30\n",
      "   weighted avg       1.00      1.00      1.00        30\n",
      "\n"
     ]
    }
   ],
   "source": [
    "#Checking the precision using the classification_report\n",
    "\n",
    "print(classification_report(y_test,prediction))"
   ]
  },
  {
   "cell_type": "code",
   "execution_count": 56,
   "metadata": {},
   "outputs": [
    {
     "name": "stdout",
     "output_type": "stream",
     "text": [
      "1.0\n"
     ]
    }
   ],
   "source": [
    "#Checking the accuracy\n",
    "\n",
    "print(accuracy_score(y_test,prediction))"
   ]
  }
 ],
 "metadata": {
  "kernelspec": {
   "display_name": "Python 3",
   "language": "python",
   "name": "python3"
  },
  "language_info": {
   "codemirror_mode": {
    "name": "ipython",
    "version": 3
   },
   "file_extension": ".py",
   "mimetype": "text/x-python",
   "name": "python",
   "nbconvert_exporter": "python",
   "pygments_lexer": "ipython3",
   "version": "3.7.4"
  }
 },
 "nbformat": 4,
 "nbformat_minor": 2
}
